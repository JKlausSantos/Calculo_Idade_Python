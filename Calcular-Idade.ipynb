{
  "nbformat": 4,
  "nbformat_minor": 0,
  "metadata": {
    "colab": {
      "provenance": [],
      "authorship_tag": "ABX9TyNYcVG/SrFGqowZj5JG/RcX",
      "include_colab_link": true
    },
    "kernelspec": {
      "name": "python3",
      "display_name": "Python 3"
    },
    "language_info": {
      "name": "python"
    }
  },
  "cells": [
    {
      "cell_type": "markdown",
      "metadata": {
        "id": "view-in-github",
        "colab_type": "text"
      },
      "source": [
        "<a href=\"https://colab.research.google.com/github/JKlausSantos/Calculo_Idade_Python/blob/main/Calcular-Idade.ipynb\" target=\"_parent\"><img src=\"https://colab.research.google.com/assets/colab-badge.svg\" alt=\"Open In Colab\"/></a>"
      ]
    },
    {
      "cell_type": "code",
      "execution_count": 6,
      "metadata": {
        "id": "GLE3g_V3WOzt",
        "colab": {
          "base_uri": "https://localhost:8080/"
        },
        "outputId": "9266c4e9-2126-4e7a-c36a-2ef62af083f4"
      },
      "outputs": [
        {
          "output_type": "stream",
          "name": "stdout",
          "text": [
            "Digite a idade:2\n",
            "Criança\n"
          ]
        }
      ],
      "source": [
        "idade = int(input(\"Digite a idade:\"))\n",
        "\n",
        "if idade <= 12:\n",
        "    categoria = \"Criança\"\n",
        "elif idade <= 17:\n",
        "    categoria = \"Adolescente\"\n",
        "elif idade <= 50:\n",
        "    categoria = \"Adulto\"\n",
        "else:\n",
        "    categoria = \"Idoso\"\n",
        "\n",
        "print(categoria)\n",
        "\n"
      ]
    }
  ]
}