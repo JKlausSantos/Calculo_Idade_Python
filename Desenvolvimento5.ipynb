{
  "nbformat": 4,
  "nbformat_minor": 0,
  "metadata": {
    "colab": {
      "provenance": [],
      "authorship_tag": "ABX9TyNVz8SCws9+PHNKcHGqy0Mb",
      "include_colab_link": true
    },
    "kernelspec": {
      "name": "python3",
      "display_name": "Python 3"
    },
    "language_info": {
      "name": "python"
    }
  },
  "cells": [
    {
      "cell_type": "markdown",
      "metadata": {
        "id": "view-in-github",
        "colab_type": "text"
      },
      "source": [
        "<a href=\"https://colab.research.google.com/github/JKlausSantos/Calculo_Idade_Python/blob/main/Desenvolvimento5.ipynb\" target=\"_parent\"><img src=\"https://colab.research.google.com/assets/colab-badge.svg\" alt=\"Open In Colab\"/></a>"
      ]
    },
    {
      "cell_type": "code",
      "execution_count": null,
      "metadata": {
        "colab": {
          "base_uri": "https://localhost:8080/"
        },
        "id": "lTmyxFKFprhM",
        "outputId": "a2678663-2375-458d-b0dc-e2b047b98774"
      },
      "outputs": [
        {
          "output_type": "stream",
          "name": "stdout",
          "text": [
            "Selecione a operação:\n",
            "1: Soma\n",
            "2: Subtração\n",
            "3: Multiplicação\n",
            "4: Divisão\n",
            "0: Sair\n"
          ]
        }
      ],
      "source": [
        "def soma(a, b):\n",
        "    return a + b\n",
        "\n",
        "def subtracao(a, b):\n",
        "    return a - b\n",
        "\n",
        "def multiplicacao(a, b):\n",
        "    return a * b\n",
        "\n",
        "def divisao(a, b):\n",
        "    if b == 0:\n",
        "        return \"Erro: divisão por zero\"\n",
        "    return a / b\n",
        "\n",
        "while True:\n",
        "    print(\"Selecione a operação:\")\n",
        "    print(\"1: Soma\")\n",
        "    print(\"2: Subtração\")\n",
        "    print(\"3: Multiplicação\")\n",
        "    print(\"4: Divisão\")\n",
        "    print(\"0: Sair\")\n",
        "\n",
        "    escolha = input(\"Digite o número da operação desejada: \")\n",
        "\n",
        "    if escolha == '0':\n",
        "        print(\"Saindo da calculadora.\")\n",
        "        break\n",
        "    elif escolha in ('1', '2', '3', '4'):\n",
        "        num1 = float(input(\"Digite o primeiro valor: \"))\n",
        "        num2 = float(input(\"Digite o segundo valor: \"))\n",
        "\n",
        "        if escolha == '1':\n",
        "            resultado = soma(num1, num2)\n",
        "            print(\"Resultado: \", resultado)\n",
        "        elif escolha == '2':\n",
        "            resultado = subtracao(num1, num2)\n",
        "            print(\"Resultado: \", resultado)\n",
        "        elif escolha == '3':\n",
        "            resultado = multiplicacao(num1, num2)\n",
        "            print(\"Resultado: \", resultado)\n",
        "        elif escolha == '4':\n",
        "            resultado = divisao(num1, num2)\n",
        "            print(\"Resultado: \", resultado)\n",
        "    else:\n",
        "        print(\"Essa opção não existe. Por favor, escolha uma opção válida.\")\n"
      ]
    }
  ]
}